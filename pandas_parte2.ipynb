{
 "cells": [
  {
   "cell_type": "markdown",
   "metadata": {},
   "source": [
    "# Gráfico de barras\n",
    "\n",
    "Gráficos de barras são utilizados para comparar estatísticas de dados categóricos. Considerando o exemplo do crescimento populacional, podemos estar interessados em comparar a média populacional de um subconjunto de países.\n",
    "\n",
    "Faremos a comparação da média populacional dos Estados Unidos, Brasil e Canadá."
   ]
  },
  {
   "cell_type": "code",
   "execution_count": 6,
   "metadata": {},
   "outputs": [],
   "source": [
    "import pandas as pd\n",
    "\n",
    "countries = pd.read_csv('countries.csv')\n",
    "usa = countries[countries.country == 'United States'].copy()\n",
    "brazil = countries[countries.country == 'Brazil'].copy()\n",
    "canada = countries[countries.country == 'Canada'].copy()"
   ]
  },
  {
   "cell_type": "markdown",
   "metadata": {},
   "source": [
    "Para calcular a média populacional, utilizaremos o comando ```DataFrame.mean()```. Abaixo, temos um exemplo de aplicação do comando."
   ]
  },
  {
   "cell_type": "code",
   "execution_count": 8,
   "metadata": {},
   "outputs": [
    {
     "data": {
      "text/plain": [
       "year               1979.5\n",
       "population    228211232.5\n",
       "dtype: float64"
      ]
     },
     "execution_count": 8,
     "metadata": {},
     "output_type": "execute_result"
    }
   ],
   "source": [
    "usa.mean()"
   ]
  },
  {
   "cell_type": "markdown",
   "metadata": {},
   "source": [
    "Aplicando o comando temos, como resultado, as médias das colunas numéricas (nesse caso o ano e a população). Para aplicar a média em uma coluna específica, utilizamos a notação ```DataFrame.nome_da_coluna.mean()```.  "
   ]
  },
  {
   "cell_type": "code",
   "execution_count": 10,
   "metadata": {},
   "outputs": [
    {
     "data": {
      "text/plain": [
       "228211232.5"
      ]
     },
     "execution_count": 10,
     "metadata": {},
     "output_type": "execute_result"
    }
   ],
   "source": [
    "usa.population.mean()"
   ]
  },
  {
   "cell_type": "markdown",
   "metadata": {},
   "source": [
    "Faremos agora, a criação do gráfico de barras utilizando a biblioteca o comando ```plt.bar(barras, alturas)```. Para as barras, passaremos a lista ```['USA', 'BR', 'CAN']``` e, para as alturas, passaremos a lista das médias populacionais."
   ]
  },
  {
   "cell_type": "code",
   "execution_count": 14,
   "metadata": {},
   "outputs": [
    {
     "data": {
      "text/plain": [
       "Text(0.5, 1.0, 'Média populacional')"
      ]
     },
     "execution_count": 14,
     "metadata": {},
     "output_type": "execute_result"
    },
    {
     "data": {
      "image/png": "[encoded data removed]",
      "text/plain": [
       "<Figure size 432x288 with 1 Axes>"
      ]
     },
     "metadata": {
      "needs_background": "light"
     },
     "output_type": "display_data"
    }
   ],
   "source": [
    "import matplotlib.pyplot as plt\n",
    "\n",
    "barras = ['USA', 'BR', 'CAN']\n",
    "alturas = [usa.population.mean(), brazil.population.mean(), canada.population.mean()]\n",
    "plt.bar(barras, alturas)\n",
    "plt.title('Média populacional')"
   ]
  },
  {
   "cell_type": "markdown",
   "metadata": {},
   "source": [
    "Podemos utilizar o mesmo procedimento para plotar o gráfico crescimento percetual médio."
   ]
  },
  {
   "cell_type": "code",
   "execution_count": 12,
   "metadata": {},
   "outputs": [],
   "source": [
    "usa['perc_population'] = usa.population / usa.iloc[0, 2] * 100\n",
    "brazil['perc_population'] = brazil.population / brazil.iloc[0, 2] * 100\n",
    "canada['perc_population'] = canada.population / canada.iloc[0, 2] * 100"
   ]
  },
  {
   "cell_type": "code",
   "execution_count": 15,
   "metadata": {},
   "outputs": [
    {
     "data": {
      "text/plain": [
       "Text(0.5, 1.0, 'Crescimento médio populacional')"
      ]
     },
     "execution_count": 15,
     "metadata": {},
     "output_type": "execute_result"
    },
    {
     "data": {
      "image/png": "[encoded data removed]",
      "text/plain": [
       "<Figure size 432x288 with 1 Axes>"
      ]
     },
     "metadata": {
      "needs_background": "light"
     },
     "output_type": "display_data"
    }
   ],
   "source": [
    "barras = ['USA', 'BR', 'CAN']\n",
    "alturas = [usa.perc_population.mean(), brazil.perc_population.mean(), canada.perc_population.mean()]\n",
    "plt.bar(barras, alturas)\n",
    "plt.title('Crescimento médio populacional')"
   ]
  },
  {
   "cell_type": "markdown",
   "metadata": {},
   "source": []
  }
 ],
 "metadata": {
  "kernelspec": {
   "display_name": "Python 3",
   "language": "python",
   "name": "python3"
  },
  "language_info": {
   "codemirror_mode": {
    "name": "ipython",
    "version": 3
   },
   "file_extension": ".py",
   "mimetype": "text/x-python",
   "name": "python",
   "nbconvert_exporter": "python",
   "pygments_lexer": "ipython3",
   "version": "3.7.1"
  }
 },
 "nbformat": 4,
 "nbformat_minor": 2
}
