{
 "cells": [
  {
   "cell_type": "markdown",
   "metadata": {},
   "source": [
    "# Introdução a análise de dados com Pandas\n",
    "## Histograma e gráfico de frequência\n",
    "\n",
    "Histogramas e gráficos de frequência são utilizados para analisar a distribuição de frequência de um determinado conjunto de dados. Na sua versão para dados contínuos, o histograma representa a frequência com a qual os valores presentes no conjunto estudado aparecem em intervalos de tamanho igual pré-calculados. Para entender o uso desse tipo de gráfico, trabalharemos com uma nova base denominada ```housing_ok.csv```, contendo dados imobiliários da cidade de Melbourne, Austrália."
   ]
  },
  {
   "cell_type": "code",
   "execution_count": 1,
   "metadata": {},
   "outputs": [],
   "source": [
    "import pandas as pd\n",
    "import matplotlib.pyplot as plt\n",
    "\n",
    "housing = pd.read_csv('dados/housing_ok.csv')"
   ]
  },
  {
   "cell_type": "markdown",
   "metadata": {},
   "source": [
    "Iniciamos a análise execcutando o comando ```DataFrame.info()``` para investigar o conteúdo da tabela."
   ]
  },
  {
   "cell_type": "code",
   "execution_count": 2,
   "metadata": {},
   "outputs": [
    {
     "name": "stdout",
     "output_type": "stream",
     "text": [
      "<class 'pandas.core.frame.DataFrame'>\n",
      "RangeIndex: 3021 entries, 0 to 3020\n",
      "Data columns (total 14 columns):\n",
      "bairro                 3021 non-null object\n",
      "endereco               3021 non-null object\n",
      "quartos                3021 non-null float64\n",
      "tipo                   3021 non-null object\n",
      "preco                  3021 non-null float64\n",
      "distancia_aeroporto    3021 non-null float64\n",
      "cep                    3021 non-null float64\n",
      "banheiros              3021 non-null float64\n",
      "vagas                  3021 non-null float64\n",
      "area_terreno           3021 non-null float64\n",
      "area_construida        3021 non-null float64\n",
      "ano_construcao         3021 non-null float64\n",
      "latitude               3021 non-null float64\n",
      "longitude              3021 non-null float64\n",
      "dtypes: float64(11), object(3)\n",
      "memory usage: 330.5+ KB\n"
     ]
    }
   ],
   "source": [
    "housing.info()"
   ]
  },
  {
   "cell_type": "markdown",
   "metadata": {},
   "source": [
    "Temos um total de 14 colunas, sendo 11 do tipo numérico real (```float64```) e 3 do tipo texto (```object```). Investigaremos as colunas ```quartos```, ```banheiros``` e ```vagas``` para verificar se existe necessidade de manter o tipo ```float64```.\n",
    "\n",
    "Obs: Esse passo é opcional. A transformação de tipos de dados melhora a eficiência do uso de memória por parte do ```DataFrame```. O tipo ```float64``` ocupa mais espaço do que o tipo ```int64```, por exemplo.\n",
    "\n",
    "Utilizaremos o comando ```DataFrame.nome_da_coluna.unique()``` para verificar a diversidade de valores contidos nas três colunas."
   ]
  },
  {
   "cell_type": "code",
   "execution_count": 3,
   "metadata": {},
   "outputs": [
    {
     "name": "stdout",
     "output_type": "stream",
     "text": [
      "[2. 3. 4. 5. 6. 1. 8. 7.]\n",
      "[1. 2. 4. 3. 5. 6. 8. 7.]\n",
      "[1. 2. 0. 3. 4. 6. 5. 7. 8.]\n"
     ]
    }
   ],
   "source": [
    "print(housing.quartos.unique())\n",
    "print(housing.banheiros.unique())\n",
    "print(housing.vagas.unique())"
   ]
  },
  {
   "cell_type": "markdown",
   "metadata": {},
   "source": [
    "É possível perceber que não existe, de fato, a necessidade de manter o tipo das três colunas como ```float64```. O formato ```int8``` consegue guardar valores no intervalo de -128 até 127. Sabemos que seria pouco provável a existência de um imóvel com mais de 127 quartos, banheiros ou vagas. Sendo assim, faz sentido utilizarmos esse formato. Para modificar o tipo de uma coluna, utilizamos o comando ```DataFrame.nome_da_coluna.astype('int8')```, atribuindo o resultado à própria coluna."
   ]
  },
  {
   "cell_type": "code",
   "execution_count": 4,
   "metadata": {},
   "outputs": [
    {
     "name": "stdout",
     "output_type": "stream",
     "text": [
      "<class 'pandas.core.frame.DataFrame'>\n",
      "RangeIndex: 3021 entries, 0 to 3020\n",
      "Data columns (total 14 columns):\n",
      "bairro                 3021 non-null object\n",
      "endereco               3021 non-null object\n",
      "quartos                3021 non-null int8\n",
      "tipo                   3021 non-null object\n",
      "preco                  3021 non-null float64\n",
      "distancia_aeroporto    3021 non-null float64\n",
      "cep                    3021 non-null float64\n",
      "banheiros              3021 non-null int8\n",
      "vagas                  3021 non-null int8\n",
      "area_terreno           3021 non-null float64\n",
      "area_construida        3021 non-null float64\n",
      "ano_construcao         3021 non-null float64\n",
      "latitude               3021 non-null float64\n",
      "longitude              3021 non-null float64\n",
      "dtypes: float64(8), int8(3), object(3)\n",
      "memory usage: 268.5+ KB\n"
     ]
    }
   ],
   "source": [
    "housing.quartos = housing.quartos.astype('int8')\n",
    "housing.banheiros = housing.banheiros.astype('int8')\n",
    "housing.vagas = housing.vagas.astype('int8')\n",
    "housing.info()"
   ]
  },
  {
   "cell_type": "markdown",
   "metadata": {},
   "source": [
    "Observe que o uso de memória do ```DataFrame``` caiu de 330.5+ KB para 268.5+ KB."
   ]
  },
  {
   "cell_type": "markdown",
   "metadata": {},
   "source": [
    "Para nosso primeiro gráfico de frequência, plotaremos o resultado associado ao número de quartos. Como visto anteriormente, o número de quartos representa um conjunto limitado de opções. Para contar a frequência de ocorrência dos valores de uma coluna, utilizamos o comando ```DataFrame.nome_da_coluna.value_counts()```."
   ]
  },
  {
   "cell_type": "code",
   "execution_count": 5,
   "metadata": {},
   "outputs": [
    {
     "data": {
      "text/plain": [
       "3    1390\n",
       "4     711\n",
       "2     688\n",
       "5     159\n",
       "1      54\n",
       "6      14\n",
       "7       3\n",
       "8       2\n",
       "Name: quartos, dtype: int64"
      ]
     },
     "execution_count": 5,
     "metadata": {},
     "output_type": "execute_result"
    }
   ],
   "source": [
    "housing.quartos.value_counts()"
   ]
  },
  {
   "cell_type": "markdown",
   "metadata": {},
   "source": [
    "O resultado obtido é representado na forma de um ```DataFrame``` de coluna única (denominado ```Series```), com o número de quartos como indice e as frequências correspondentes como os valores. Criaremos a variável ```quartos_freq``` para guardar a série. Para acessar a lista de indices e valores, utilizamos os comandos ```Series.index``` e ```Series.values```, respectivamente. \n",
    "\n",
    "Utilizaremos o gráfico de barras para plotar o resultado, passando os índices e valores como parâmetros."
   ]
  },
  {
   "cell_type": "code",
   "execution_count": 6,
   "metadata": {},
   "outputs": [
    {
     "data": {
      "text/plain": [
       "<BarContainer object of 8 artists>"
      ]
     },
     "execution_count": 6,
     "metadata": {},
     "output_type": "execute_result"
    },
    {
     "data": {
      "image/png": "[encoded data removed]",
      "text/plain": [
       "<Figure size 432x288 with 1 Axes>"
      ]
     },
     "metadata": {
      "needs_background": "light"
     },
     "output_type": "display_data"
    }
   ],
   "source": [
    "quartos_freq = housing.quartos.value_counts()\n",
    "plt.title('Gráfico de frequência')\n",
    "plt.xlabel('Número de quartos')\n",
    "plt.ylabel('Frequência')\n",
    "plt.bar(quartos_freq.index, quartos_freq.values)"
   ]
  },
  {
   "cell_type": "markdown",
   "metadata": {},
   "source": [
    "Através do gráfico de frequência gerado é possível concluir que a maioria dos imóveis da tabela possui entre 2 e 4 quartos, sem 3 o valor com maior frequência."
   ]
  },
  {
   "cell_type": "markdown",
   "metadata": {},
   "source": [
    "Para criar histogramas (gráfico de frequência para dados contínuos), utilizaremos o comando ```plt.hist()```. Para o exemplo, faremos o histograma dos preços dos imóveis."
   ]
  },
  {
   "cell_type": "code",
   "execution_count": 7,
   "metadata": {},
   "outputs": [
    {
     "data": {
      "text/plain": [
       "Text(0, 0.5, 'Frequência')"
      ]
     },
     "execution_count": 7,
     "metadata": {},
     "output_type": "execute_result"
    },
    {
     "data": {
      "image/png": "[encoded data removed]",
      "text/plain": [
       "<Figure size 432x288 with 1 Axes>"
      ]
     },
     "metadata": {
      "needs_background": "light"
     },
     "output_type": "display_data"
    }
   ],
   "source": [
    "plt.hist(housing.preco)\n",
    "plt.title('Histograma')\n",
    "plt.xlabel('Preço dos imóveis')\n",
    "plt.ylabel('Frequência')"
   ]
  },
  {
   "cell_type": "markdown",
   "metadata": {},
   "source": [
    "Observe que os valores dos preços mostrados no eixo $x$ são de difícil visualização. Para resolver o problema, dividiremos todos os preços por 1000."
   ]
  },
  {
   "cell_type": "code",
   "execution_count": 8,
   "metadata": {},
   "outputs": [
    {
     "data": {
      "text/plain": [
       "Text(0, 0.5, 'Frequência')"
      ]
     },
     "execution_count": 8,
     "metadata": {},
     "output_type": "execute_result"
    },
    {
     "data": {
      "image/png": "[encoded data removed]",
      "text/plain": [
       "<Figure size 432x288 with 1 Axes>"
      ]
     },
     "metadata": {
      "needs_background": "light"
     },
     "output_type": "display_data"
    }
   ],
   "source": [
    "plt.hist(housing.preco / 1000)\n",
    "plt.title('Histograma')\n",
    "plt.xlabel('Preço dos imóveis em ($ 1.000,00)')\n",
    "plt.ylabel('Frequência')"
   ]
  },
  {
   "cell_type": "markdown",
   "metadata": {},
   "source": [
    "Analisando o histograma acima, observamos que a maioria dos preços é inferior a 2 milhões. Para melhorar a visualização, podemos eliminar os preços que aparecem com menor frequência. Analisando o histograma, parece sensato eliminarmos valores superiores a 5 milhões."
   ]
  },
  {
   "cell_type": "code",
   "execution_count": 9,
   "metadata": {},
   "outputs": [
    {
     "data": {
      "text/plain": [
       "Text(0, 0.5, 'Frequência')"
      ]
     },
     "execution_count": 9,
     "metadata": {},
     "output_type": "execute_result"
    },
    {
     "data": {
      "image/png": "[encoded data removed]",
      "text/plain": [
       "<Figure size 432x288 with 1 Axes>"
      ]
     },
     "metadata": {
      "needs_background": "light"
     },
     "output_type": "display_data"
    }
   ],
   "source": [
    "filtro = (housing.preco <= 5000000)\n",
    "plt.hist(housing[filtro].preco / 1000)\n",
    "plt.title('Histograma')\n",
    "plt.xlabel('Preço dos imóveis em ($ 1.000,00)')\n",
    "plt.ylabel('Frequência')"
   ]
  },
  {
   "cell_type": "markdown",
   "metadata": {},
   "source": [
    "Com o novo histograma é possível identificar que boa parte dos imóveis possuem valores de quinhentos mil a um milhão de dólares."
   ]
  },
  {
   "cell_type": "markdown",
   "metadata": {},
   "source": [
    "Para melhor analisar a distribuição de preços dos imóveis, precisamos considerar os tipos. Utilizando o comando ```unique()```, verificaremos os tipos de imóveis."
   ]
  },
  {
   "cell_type": "code",
   "execution_count": 10,
   "metadata": {},
   "outputs": [
    {
     "data": {
      "text/plain": [
       "array(['kitnet', 'casa', 'apartamento'], dtype=object)"
      ]
     },
     "execution_count": 10,
     "metadata": {},
     "output_type": "execute_result"
    }
   ],
   "source": [
    "housing.tipo.unique()"
   ]
  },
  {
   "cell_type": "markdown",
   "metadata": {},
   "source": [
    "Temos três tipos de imóveis (kitnet, casa e apartamento). Para cada tipo, criaremos o histograma de preços para comparar as distribuições de frequência."
   ]
  },
  {
   "cell_type": "code",
   "execution_count": 11,
   "metadata": {},
   "outputs": [
    {
     "data": {
      "text/plain": [
       "Text(0, 0.5, 'Frequência')"
      ]
     },
     "execution_count": 11,
     "metadata": {},
     "output_type": "execute_result"
    },
    {
     "data": {
      "image/png": "[encoded data removed]",
      "text/plain": [
       "<Figure size 432x288 with 1 Axes>"
      ]
     },
     "metadata": {
      "needs_background": "light"
     },
     "output_type": "display_data"
    }
   ],
   "source": [
    "filtro = (housing.tipo == 'kitnet')\n",
    "plt.hist(housing[filtro].preco / 1000)\n",
    "plt.title('Histograma')\n",
    "plt.xlabel('Preço das kitnets em ($ 1.000,00)')\n",
    "plt.ylabel('Frequência')"
   ]
  },
  {
   "cell_type": "code",
   "execution_count": 12,
   "metadata": {},
   "outputs": [
    {
     "data": {
      "text/plain": [
       "Text(0, 0.5, 'Frequência')"
      ]
     },
     "execution_count": 12,
     "metadata": {},
     "output_type": "execute_result"
    },
    {
     "data": {
      "image/png": "[encoded data removed]",
      "text/plain": [
       "<Figure size 432x288 with 1 Axes>"
      ]
     },
     "metadata": {
      "needs_background": "light"
     },
     "output_type": "display_data"
    }
   ],
   "source": [
    "filtro = (housing.tipo == 'casa')\n",
    "plt.hist(housing[filtro].preco / 1000)\n",
    "plt.title('Histograma')\n",
    "plt.xlabel('Preço das casas em ($ 1.000,00)')\n",
    "plt.ylabel('Frequência')"
   ]
  },
  {
   "cell_type": "code",
   "execution_count": 13,
   "metadata": {},
   "outputs": [
    {
     "data": {
      "text/plain": [
       "Text(0, 0.5, 'Frequência')"
      ]
     },
     "execution_count": 13,
     "metadata": {},
     "output_type": "execute_result"
    },
    {
     "data": {
      "image/png": "[encoded data removed]",
      "text/plain": [
       "<Figure size 432x288 with 1 Axes>"
      ]
     },
     "metadata": {
      "needs_background": "light"
     },
     "output_type": "display_data"
    }
   ],
   "source": [
    "filtro = (housing.tipo == 'apartamento')\n",
    "plt.hist(housing[filtro].preco / 1000)\n",
    "plt.title('Histograma')\n",
    "plt.xlabel('Preço dos apartamentos em ($ 1.000,00)')\n",
    "plt.ylabel('Frequência')"
   ]
  }
 ],
 "metadata": {
  "kernelspec": {
   "display_name": "Python 3",
   "language": "python",
   "name": "python3"
  },
  "language_info": {
   "codemirror_mode": {
    "name": "ipython",
    "version": 3
   },
   "file_extension": ".py",
   "mimetype": "text/x-python",
   "name": "python",
   "nbconvert_exporter": "python",
   "pygments_lexer": "ipython3",
   "version": "3.7.1"
  }
 },
 "nbformat": 4,
 "nbformat_minor": 2
}
