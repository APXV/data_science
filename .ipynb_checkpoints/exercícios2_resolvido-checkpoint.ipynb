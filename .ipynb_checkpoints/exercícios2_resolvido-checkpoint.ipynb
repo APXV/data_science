{
 "cells": [
  {
   "cell_type": "markdown",
   "metadata": {},
   "source": [
    "# Exercícios 2\n",
    "## Utilizando as informações contidas no arquivo ```russian_demography.csv```:"
   ]
  },
  {
   "cell_type": "markdown",
   "metadata": {},
   "source": [
    "1. Gere um gráfico de barras contendo o percentual médio de população urbana das regiões: 'Vologda Oblast', 'Kaluga Oblast' e 'Krasnodar Krai'."
   ]
  },
  {
   "cell_type": "code",
   "execution_count": 9,
   "metadata": {},
   "outputs": [
    {
     "data": {
      "text/plain": [
       "<BarContainer object of 3 artists>"
      ]
     },
     "execution_count": 9,
     "metadata": {},
     "output_type": "execute_result"
    },
    {
     "data": {
      "image/png": "[encoded data removed]",
      "text/plain": [
       "<Figure size 432x288 with 1 Axes>"
      ]
     },
     "metadata": {
      "needs_background": "light"
     },
     "output_type": "display_data"
    }
   ],
   "source": [
    "import pandas as pd\n",
    "import matplotlib.pyplot as plt\n",
    "\n",
    "df = pd.read_csv(\"dados/russian_demography.csv\")\n",
    "df1 = df[df.region == 'Vologda Oblast'].copy()\n",
    "df2 = df[df.region == 'Kaluga Oblast'].copy()\n",
    "df3 = df[df.region == 'Krasnodar Krai'].copy()\n",
    "\n",
    "barras = ['Vologda Oblast', 'Kaluga Oblast', 'Krasnodar Krai']\n",
    "alturas_urb = [df1.urbanization.mean(), df2.urbanization.mean(), df3.urbanization.mean()]\n",
    "\n",
    "plt.bar(barras, alturas_urb)"
   ]
  },
  {
   "cell_type": "markdown",
   "metadata": {},
   "source": [
    "2. Gere um gráfico de barras contendo o percentual médio de população urbana das regiões: 'Vologda Oblast', 'Kaluga Oblast' e 'Krasnodar Krai', considerando somente os períodos a partir de 2010."
   ]
  },
  {
   "cell_type": "code",
   "execution_count": 10,
   "metadata": {},
   "outputs": [
    {
     "data": {
      "text/plain": [
       "<BarContainer object of 3 artists>"
      ]
     },
     "execution_count": 10,
     "metadata": {},
     "output_type": "execute_result"
    },
    {
     "data": {
      "image/png": "[encoded data removed]",
      "text/plain": [
       "<Figure size 432x288 with 1 Axes>"
      ]
     },
     "metadata": {
      "needs_background": "light"
     },
     "output_type": "display_data"
    }
   ],
   "source": [
    "barras = ['Vologda Oblast', 'Kaluga Oblast', 'Krasnodar Krai']\n",
    "alturas_urb = [df1[df1.year > 2010].urbanization.mean(), df2[df2.year > 2010].urbanization.mean(), df3[df3.year > 2010].urbanization.mean()]\n",
    "\n",
    "plt.bar(barras, alturas_urb)"
   ]
  },
  {
   "cell_type": "markdown",
   "metadata": {},
   "source": [
    "3. Gere um gráfico de barras com a média de nascimentos para os anos de 2015, 2016 e 2017, considerando todas as regiões para cada período."
   ]
  },
  {
   "cell_type": "code",
   "execution_count": 12,
   "metadata": {},
   "outputs": [
    {
     "data": {
      "text/plain": [
       "<BarContainer object of 3 artists>"
      ]
     },
     "execution_count": 12,
     "metadata": {},
     "output_type": "execute_result"
    },
    {
     "data": {
      "image/png": "[encoded data removed]",
      "text/plain": [
       "<Figure size 432x288 with 1 Axes>"
      ]
     },
     "metadata": {
      "needs_background": "light"
     },
     "output_type": "display_data"
    }
   ],
   "source": [
    "df1 = df[df.year == 2015].copy()\n",
    "df2 = df[df.year == 2016].copy()\n",
    "df3 = df[df.year == 2017].copy()\n",
    "\n",
    "barras = ['2015', '2016', '2017']\n",
    "alturas = [df1.birth_rate.mean(), df2.birth_rate.mean(), df3.birth_rate.mean()]\n",
    "\n",
    "plt.bar(barras, alturas)"
   ]
  }
 ],
 "metadata": {
  "kernelspec": {
   "display_name": "Python 3",
   "language": "python",
   "name": "python3"
  },
  "language_info": {
   "codemirror_mode": {
    "name": "ipython",
    "version": 3
   },
   "file_extension": ".py",
   "mimetype": "text/x-python",
   "name": "python",
   "nbconvert_exporter": "python",
   "pygments_lexer": "ipython3",
   "version": "3.7.1"
  }
 },
 "nbformat": 4,
 "nbformat_minor": 2
}
