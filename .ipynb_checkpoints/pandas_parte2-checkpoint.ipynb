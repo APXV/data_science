{
 "cells": [
  {
   "cell_type": "markdown",
   "metadata": {},
   "source": [
    "# Introdução a análise de dados com Pandas - Parte 2\n",
    "## Gráfico de barras\n",
    "\n",
    "Gráficos de barras são utilizados para comparar estatísticas de dados categóricos. Considerando o exemplo do crescimento populacional, podemos estar interessados em comparar a média populacional de um subconjunto de países.\n",
    "\n",
    "Faremos a comparação da média populacional dos Estados Unidos, Brasil e Canadá."
   ]
  },
  {
   "cell_type": "code",
   "execution_count": 1,
   "metadata": {},
   "outputs": [],
   "source": [
    "import pandas as pd\n",
    "\n",
    "countries = pd.read_csv('dados/countries.csv')\n",
    "usa = countries[countries.country == 'United States'].copy()\n",
    "brazil = countries[countries.country == 'Brazil'].copy()\n",
    "canada = countries[countries.country == 'Canada'].copy()"
   ]
  },
  {
   "cell_type": "markdown",
   "metadata": {},
   "source": [
    "Para calcular a média populacional, utilizaremos o comando ```DataFrame.mean()```. Abaixo, temos um exemplo de aplicação do comando."
   ]
  },
  {
   "cell_type": "code",
   "execution_count": 2,
   "metadata": {},
   "outputs": [
    {
     "data": {
      "text/plain": [
       "year               1979.5\n",
       "population    228211232.5\n",
       "dtype: float64"
      ]
     },
     "execution_count": 2,
     "metadata": {},
     "output_type": "execute_result"
    }
   ],
   "source": [
    "usa.mean()"
   ]
  },
  {
   "cell_type": "markdown",
   "metadata": {},
   "source": [
    "Aplicando o comando temos, como resultado, as médias das colunas numéricas (nesse caso o ano e a população). Para aplicar a média em uma coluna específica, utilizamos a notação ```DataFrame.nome_da_coluna.mean()```.  "
   ]
  },
  {
   "cell_type": "code",
   "execution_count": 3,
   "metadata": {},
   "outputs": [
    {
     "data": {
      "text/plain": [
       "228211232.5"
      ]
     },
     "execution_count": 3,
     "metadata": {},
     "output_type": "execute_result"
    }
   ],
   "source": [
    "usa.population.mean()"
   ]
  },
  {
   "cell_type": "markdown",
   "metadata": {},
   "source": [
    "Faremos agora, a criação do gráfico de barras utilizando a biblioteca o comando ```plt.bar(barras, alturas)```. Para as barras, passaremos a lista ```['USA', 'BR', 'CAN']``` e, para as alturas, passaremos a lista das médias populacionais."
   ]
  },
  {
   "cell_type": "code",
   "execution_count": 4,
   "metadata": {},
   "outputs": [
    {
     "data": {
      "text/plain": [
       "Text(0.5, 1.0, 'Média populacional')"
      ]
     },
     "execution_count": 4,
     "metadata": {},
     "output_type": "execute_result"
    }
   ],
   "source": [
    "import matplotlib.pyplot as plt\n",
    "\n",
    "barras = ['USA', 'BR', 'CAN']\n",
    "alturas = [usa.population.mean(), brazil.population.mean(), canada.population.mean()]\n",
    "plt.bar(barras, alturas)\n",
    "plt.title('Média populacional')"
   ]
  },
  {
   "cell_type": "markdown",
   "metadata": {},
   "source": [
    "Podemos utilizar o mesmo procedimento para plotar o gráfico crescimento percetual médio."
   ]
  },
  {
   "cell_type": "code",
   "execution_count": 5,
   "metadata": {},
   "outputs": [],
   "source": [
    "usa['perc_population'] = usa.population / usa.iloc[0, 2] * 100\n",
    "brazil['perc_population'] = brazil.population / brazil.iloc[0, 2] * 100\n",
    "canada['perc_population'] = canada.population / canada.iloc[0, 2] * 100"
   ]
  },
  {
   "cell_type": "code",
   "execution_count": 6,
   "metadata": {},
   "outputs": [
    {
     "data": {
      "text/plain": [
       "Text(0.5, 1.0, 'Crescimento médio populacional')"
      ]
     },
     "execution_count": 6,
     "metadata": {},
     "output_type": "execute_result"
    },
    {
     "data": {
      "image/png": "[encoded data removed]",
      "text/plain": [
       "<Figure size 432x288 with 1 Axes>"
      ]
     },
     "metadata": {
      "needs_background": "light"
     },
     "output_type": "display_data"
    }
   ],
   "source": [
    "barras = ['USA', 'BR', 'CAN']\n",
    "alturas = [usa.perc_population.mean(), brazil.perc_population.mean(), canada.perc_population.mean()]\n",
    "plt.bar(barras, alturas)\n",
    "plt.title('Crescimento médio populacional')"
   ]
  },
  {
   "cell_type": "markdown",
   "metadata": {},
   "source": [
    "Para testar os conhecimentos adquiridos até agora, utilizaremos o arquivo ```russian_demography.csv``` para gerar alguns gráficos de barras. No arquivo, temos as colunas\n",
    "* year: ano das estatísticas\n",
    "* region: região\n",
    "* npg: crescimento populacional\n",
    "* birth_rate: taxa de nascimento\n",
    "* death_rate: taxa de falecimento\n",
    "* gdw: percentual de desemprego\n",
    "* urbanization: percentual de população urbana\n"
   ]
  },
  {
   "cell_type": "code",
   "execution_count": 7,
   "metadata": {},
   "outputs": [
    {
     "data": {
      "text/html": [
       "<div>\n",
       "<style scoped>\n",
       "    .dataframe tbody tr th:only-of-type {\n",
       "        vertical-align: middle;\n",
       "    }\n",
       "\n",
       "    .dataframe tbody tr th {\n",
       "        vertical-align: top;\n",
       "    }\n",
       "\n",
       "    .dataframe thead th {\n",
       "        text-align: right;\n",
       "    }\n",
       "</style>\n",
       "<table border=\"1\" class=\"dataframe\">\n",
       "  <thead>\n",
       "    <tr style=\"text-align: right;\">\n",
       "      <th></th>\n",
       "      <th>year</th>\n",
       "      <th>region</th>\n",
       "      <th>npg</th>\n",
       "      <th>birth_rate</th>\n",
       "      <th>death_rate</th>\n",
       "      <th>gdw</th>\n",
       "      <th>urbanization</th>\n",
       "    </tr>\n",
       "  </thead>\n",
       "  <tbody>\n",
       "    <tr>\n",
       "      <th>0</th>\n",
       "      <td>1990</td>\n",
       "      <td>Republic of Adygea</td>\n",
       "      <td>1.9</td>\n",
       "      <td>14.2</td>\n",
       "      <td>12.3</td>\n",
       "      <td>84.66</td>\n",
       "      <td>52.42</td>\n",
       "    </tr>\n",
       "    <tr>\n",
       "      <th>1</th>\n",
       "      <td>1990</td>\n",
       "      <td>Altai Krai</td>\n",
       "      <td>1.8</td>\n",
       "      <td>12.9</td>\n",
       "      <td>11.1</td>\n",
       "      <td>80.24</td>\n",
       "      <td>58.07</td>\n",
       "    </tr>\n",
       "    <tr>\n",
       "      <th>2</th>\n",
       "      <td>1990</td>\n",
       "      <td>Amur Oblast</td>\n",
       "      <td>7.6</td>\n",
       "      <td>16.2</td>\n",
       "      <td>8.6</td>\n",
       "      <td>69.55</td>\n",
       "      <td>68.37</td>\n",
       "    </tr>\n",
       "    <tr>\n",
       "      <th>3</th>\n",
       "      <td>1990</td>\n",
       "      <td>Arkhangelsk Oblast</td>\n",
       "      <td>3.7</td>\n",
       "      <td>13.5</td>\n",
       "      <td>9.8</td>\n",
       "      <td>73.26</td>\n",
       "      <td>73.63</td>\n",
       "    </tr>\n",
       "    <tr>\n",
       "      <th>4</th>\n",
       "      <td>1990</td>\n",
       "      <td>Astrakhan Oblast</td>\n",
       "      <td>4.7</td>\n",
       "      <td>15.1</td>\n",
       "      <td>10.4</td>\n",
       "      <td>77.05</td>\n",
       "      <td>68.01</td>\n",
       "    </tr>\n",
       "  </tbody>\n",
       "</table>\n",
       "</div>"
      ],
      "text/plain": [
       "   year              region  npg  birth_rate  death_rate    gdw  urbanization\n",
       "0  1990  Republic of Adygea  1.9        14.2        12.3  84.66         52.42\n",
       "1  1990          Altai Krai  1.8        12.9        11.1  80.24         58.07\n",
       "2  1990         Amur Oblast  7.6        16.2         8.6  69.55         68.37\n",
       "3  1990  Arkhangelsk Oblast  3.7        13.5         9.8  73.26         73.63\n",
       "4  1990    Astrakhan Oblast  4.7        15.1        10.4  77.05         68.01"
      ]
     },
     "execution_count": 7,
     "metadata": {},
     "output_type": "execute_result"
    }
   ],
   "source": [
    "df = pd.read_csv(\"dados/russian_demography.csv\")\n",
    "df.head()"
   ]
  },
  {
   "cell_type": "markdown",
   "metadata": {},
   "source": [
    "Primeiro, descobriremos quais regiões estão sendo consideradas no estudo. Para tanto, acessaremos a coluna ```region``` e verificaremos os valores únicos utilizando o comando ```DataFrame.nome_da_coluna.unique()```."
   ]
  },
  {
   "cell_type": "code",
   "execution_count": 8,
   "metadata": {},
   "outputs": [
    {
     "data": {
      "text/plain": [
       "array(['Republic of Adygea', 'Altai Krai', 'Amur Oblast',\n",
       "       'Arkhangelsk Oblast', 'Astrakhan Oblast',\n",
       "       'Republic of Bashkortostan', 'Belgorod Oblast', 'Bryansk Oblast',\n",
       "       'Republic of Buryatia', 'Vladimir Oblast', 'Volgograd Oblast',\n",
       "       'Vologda Oblast', 'Voronezh Oblast', 'Republic of Dagestan',\n",
       "       'Jewish Autonomous Oblast', 'Zabaykalsky Krai', 'Ivanovo Oblast',\n",
       "       'Republic of Ingushetia', 'Irkutsk Oblast',\n",
       "       'Kabardino-Balkar Republic', 'Kaliningrad Oblast',\n",
       "       'Republic of Kalmykia', 'Kaluga Oblast', 'Kamchatka Krai',\n",
       "       'Karachay-Cherkess Republic', 'Republic of Karelia',\n",
       "       'Kemerovo Oblast', 'Kirov Oblast', 'Kostroma Oblast',\n",
       "       'Krasnodar Krai', 'Krasnoyarsk Krai', 'Republic of Crimea',\n",
       "       'Kurgan Oblast', 'Kursk Oblast', 'Leningrad Oblast',\n",
       "       'Lipetsk Oblast', 'Magadan Oblast', 'Mari El Republic',\n",
       "       'Republic of Mordovia', 'Moscow', 'Moscow Oblast',\n",
       "       'Murmansk Oblast', 'Nenets Autonomous Okrug',\n",
       "       'Nizhny Novgorod Oblast', 'Novgorod Oblast', 'Novosibirsk Oblast',\n",
       "       'Omsk Oblast', 'Orenburg Oblast', 'Oryol Oblast', 'Penza Oblast',\n",
       "       'Perm Krai', 'Primorsky Krai', 'Pskov Oblast', 'Altai Republic',\n",
       "       'Komi Republic', 'Tuva Republic', 'Rostov Oblast', 'Ryazan Oblast',\n",
       "       'Samara Oblast', 'Saint Petersburg', 'Saratov Oblast',\n",
       "       'Sakhalin Oblast', 'Sverdlovsk Oblast', 'Sevastopol',\n",
       "       'Republic of North Ossetia-Alania', 'Smolensk Oblast',\n",
       "       'Stavropol Krai', 'Tambov Oblast', 'Republic of Tatarstan',\n",
       "       'Tver Oblast', 'Tomsk Oblast', 'Tula Oblast', 'Tyumen Oblast',\n",
       "       'Udmurt Republic', 'Ulyanovsk Oblast', 'Khabarovsk Krai',\n",
       "       'Republic of Khakassia', 'Khanty–Mansi Autonomous Okrug – Yugra',\n",
       "       'Chelyabinsk Oblast', 'Chechen Republic', 'Chuvash Republic',\n",
       "       'Chukotka Autonomous Okrug', 'Sakha (Yakutia) Republic',\n",
       "       'Yamalo-Nenets Autonomous Okrug', 'Yaroslavl Oblast'], dtype=object)"
      ]
     },
     "execution_count": 8,
     "metadata": {},
     "output_type": "execute_result"
    }
   ],
   "source": [
    "df.region.unique()"
   ]
  },
  {
   "cell_type": "markdown",
   "metadata": {},
   "source": [
    "Para verificar o número de regiões, utilizamos o comando ```len()```."
   ]
  },
  {
   "cell_type": "code",
   "execution_count": 9,
   "metadata": {},
   "outputs": [
    {
     "data": {
      "text/plain": [
       "85"
      ]
     },
     "execution_count": 9,
     "metadata": {},
     "output_type": "execute_result"
    }
   ],
   "source": [
    "len(df.region.unique())"
   ]
  },
  {
   "cell_type": "markdown",
   "metadata": {},
   "source": [
    "Para simplificar, faremos a análise comparativa somente das três primeiras regiões: 'Republic of Adygea', 'Altai Krai' e 'Amur Oblast'. Faremos a comparação do percentual médio de desemprego."
   ]
  },
  {
   "cell_type": "code",
   "execution_count": 10,
   "metadata": {},
   "outputs": [
    {
     "data": {
      "text/plain": [
       "<BarContainer object of 3 artists>"
      ]
     },
     "execution_count": 10,
     "metadata": {},
     "output_type": "execute_result"
    },
    {
     "data": {
      "image/png": "[encoded data removed]",
      "text/plain": [
       "<Figure size 432x288 with 1 Axes>"
      ]
     },
     "metadata": {
      "needs_background": "light"
     },
     "output_type": "display_data"
    }
   ],
   "source": [
    "df1 = df[df.region == 'Republic of Adygea'].copy()\n",
    "df2 = df[df.region == 'Altai Krai'].copy()\n",
    "df3 = df[df.region == 'Amur Oblast'].copy()\n",
    "\n",
    "barras = ['Republic of Adygea', 'Altai Krai', 'Amur Oblast']\n",
    "alturas = [df1.gdw.mean(), df2.gdw.mean(), df3.gdw.mean()]\n",
    "plt.bar(barras, alturas)"
   ]
  }
 ],
 "metadata": {
  "kernelspec": {
   "display_name": "Python 3",
   "language": "python",
   "name": "python3"
  },
  "language_info": {
   "codemirror_mode": {
    "name": "ipython",
    "version": 3
   },
   "file_extension": ".py",
   "mimetype": "text/x-python",
   "name": "python",
   "nbconvert_exporter": "python",
   "pygments_lexer": "ipython3",
   "version": "3.7.1"
  }
 },
 "nbformat": 4,
 "nbformat_minor": 2
}
