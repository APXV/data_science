{
 "cells": [
  {
   "cell_type": "markdown",
   "metadata": {},
   "source": [
    "## Introdução a análise de dados com Pandas - Parte 4\n",
    "É possível nos depararmos com dados incompletos ou com erros de registro. O pacote pandas pode ser utilizado para tratar os dados antes de iniciar o processo de análise visual dos dados."
   ]
  },
  {
   "cell_type": "code",
   "execution_count": 1,
   "metadata": {},
   "outputs": [],
   "source": [
    "import pandas as pd\n",
    "import matplotlib as plt"
   ]
  },
  {
   "cell_type": "markdown",
   "metadata": {},
   "source": [
    "Para experimentar alguns comandos, utilizaremos a base \"housing.csv\". Ao contrário da base \"housing_ok.csv\", a primeira apresenta dados em branco e outros com valores incoerentes com a realidade."
   ]
  },
  {
   "cell_type": "code",
   "execution_count": 2,
   "metadata": {},
   "outputs": [],
   "source": [
    "housing = pd.read_csv('housing.csv')"
   ]
  },
  {
   "cell_type": "code",
   "execution_count": 3,
   "metadata": {},
   "outputs": [
    {
     "name": "stdout",
     "output_type": "stream",
     "text": [
      "<class 'pandas.core.frame.DataFrame'>\n",
      "RangeIndex: 11306 entries, 0 to 11305\n",
      "Data columns (total 14 columns):\n",
      "Bairro                    11304 non-null object\n",
      "Endereco                  11304 non-null object\n",
      "Quartos                   11304 non-null float64\n",
      "Tipo                      11304 non-null object\n",
      "Preco                     8827 non-null float64\n",
      "Distancia do aeroporto    11304 non-null float64\n",
      "CEP                       11304 non-null float64\n",
      "Banheiro                  11015 non-null float64\n",
      "Vagas                     11055 non-null float64\n",
      "Area terreno              9031 non-null float64\n",
      "Area construida           6104 non-null float64\n",
      "Ano da construcao         7016 non-null float64\n",
      "Latitude                  11306 non-null object\n",
      "Longitude                 11092 non-null object\n",
      "dtypes: float64(9), object(5)\n",
      "memory usage: 1.2+ MB\n"
     ]
    }
   ],
   "source": [
    "housing.info()"
   ]
  },
  {
   "cell_type": "markdown",
   "metadata": {},
   "source": [
    "Através do comando \"info()\" é possível observar alguns problemas.\n",
    "1. Quase todas as colunas possuem dados em branco;\n",
    "2. As colunas Latitude e Longitude foram interpretadas como tipo \"object\""
   ]
  },
  {
   "cell_type": "markdown",
   "metadata": {},
   "source": [
    "Trataremos primeiro os dados em branco.\n",
    "Podemos (basicamente) lidar com dados em brancos de duas formas:\n",
    "* Eliminar linhas que contanham um ou mais dados em branco\n",
    "* Substituir os dados em branco por valores quaisquer\n",
    "\n",
    "Geralmente a primeira opção é a mais adequada.\n",
    "Para eliminar todas as linhas contendo pelo menos um valor em branco o utilizamos o comando \"dropnan\"."
   ]
  },
  {
   "cell_type": "code",
   "execution_count": 4,
   "metadata": {},
   "outputs": [],
   "source": [
    "housing.dropna(axis=0, inplace=True)"
   ]
  },
  {
   "cell_type": "markdown",
   "metadata": {},
   "source": [
    "O parâmetro \"axis=0\" indica que faremos a eliminação de linhas e não colunas (axis=1 para coluna)"
   ]
  },
  {
   "cell_type": "markdown",
   "metadata": {},
   "source": [
    "Observando a tabela após a eliminação de linhas:"
   ]
  },
  {
   "cell_type": "code",
   "execution_count": 5,
   "metadata": {},
   "outputs": [
    {
     "name": "stdout",
     "output_type": "stream",
     "text": [
      "<class 'pandas.core.frame.DataFrame'>\n",
      "Int64Index: 3627 entries, 1 to 7015\n",
      "Data columns (total 14 columns):\n",
      "Bairro                    3627 non-null object\n",
      "Endereco                  3627 non-null object\n",
      "Quartos                   3627 non-null float64\n",
      "Tipo                      3627 non-null object\n",
      "Preco                     3627 non-null float64\n",
      "Distancia do aeroporto    3627 non-null float64\n",
      "CEP                       3627 non-null float64\n",
      "Banheiro                  3627 non-null float64\n",
      "Vagas                     3627 non-null float64\n",
      "Area terreno              3627 non-null float64\n",
      "Area construida           3627 non-null float64\n",
      "Ano da construcao         3627 non-null float64\n",
      "Latitude                  3627 non-null object\n",
      "Longitude                 3627 non-null object\n",
      "dtypes: float64(9), object(5)\n",
      "memory usage: 425.0+ KB\n"
     ]
    }
   ],
   "source": [
    "housing.info()"
   ]
  },
  {
   "cell_type": "markdown",
   "metadata": {},
   "source": [
    "Passamos de 11306 linhas para 3627. Redução de quase 70% da base."
   ]
  },
  {
   "cell_type": "markdown",
   "metadata": {},
   "source": [
    "Agora faremos a transformação das colunas \"Latitude\" e \"Longitude\" de \"object\" (texto) para \"float64\" (número) utilizando o comando \"pd.to_numeric()\"."
   ]
  },
  {
   "cell_type": "code",
   "execution_count": 6,
   "metadata": {},
   "outputs": [],
   "source": [
    "housing.Longitude = pd.to_numeric(housing.Longitude, errors='coerce')\n",
    "housing.Latitude = pd.to_numeric(housing.Latitude, errors='coerce')"
   ]
  },
  {
   "cell_type": "markdown",
   "metadata": {},
   "source": [
    "O comando \"pd.to_numeric()\" recebe dois parâmetros: coluna e a forma de lidar com erros. \n",
    "A configuração erros='coerce' significa que o conversor irá forçar a conversão.\n",
    "Observando as informações da tabela, é possível observar que a conversão foi feita com sucesso."
   ]
  },
  {
   "cell_type": "code",
   "execution_count": 7,
   "metadata": {},
   "outputs": [
    {
     "name": "stdout",
     "output_type": "stream",
     "text": [
      "<class 'pandas.core.frame.DataFrame'>\n",
      "Int64Index: 3627 entries, 1 to 7015\n",
      "Data columns (total 14 columns):\n",
      "Bairro                    3627 non-null object\n",
      "Endereco                  3627 non-null object\n",
      "Quartos                   3627 non-null float64\n",
      "Tipo                      3627 non-null object\n",
      "Preco                     3627 non-null float64\n",
      "Distancia do aeroporto    3627 non-null float64\n",
      "CEP                       3627 non-null float64\n",
      "Banheiro                  3627 non-null float64\n",
      "Vagas                     3627 non-null float64\n",
      "Area terreno              3627 non-null float64\n",
      "Area construida           3627 non-null float64\n",
      "Ano da construcao         3627 non-null float64\n",
      "Latitude                  3627 non-null float64\n",
      "Longitude                 3626 non-null float64\n",
      "dtypes: float64(11), object(3)\n",
      "memory usage: 425.0+ KB\n"
     ]
    }
   ],
   "source": [
    "housing.info()"
   ]
  },
  {
   "cell_type": "markdown",
   "metadata": {},
   "source": [
    "Para investigar possíveis anomalias nos valores das colunas, utilizaremos o comando \"describe()\""
   ]
  },
  {
   "cell_type": "code",
   "execution_count": 8,
   "metadata": {},
   "outputs": [
    {
     "data": {
      "text/html": [
       "<div>\n",
       "<style scoped>\n",
       "    .dataframe tbody tr th:only-of-type {\n",
       "        vertical-align: middle;\n",
       "    }\n",
       "\n",
       "    .dataframe tbody tr th {\n",
       "        vertical-align: top;\n",
       "    }\n",
       "\n",
       "    .dataframe thead th {\n",
       "        text-align: right;\n",
       "    }\n",
       "</style>\n",
       "<table border=\"1\" class=\"dataframe\">\n",
       "  <thead>\n",
       "    <tr style=\"text-align: right;\">\n",
       "      <th></th>\n",
       "      <th>Quartos</th>\n",
       "      <th>Preco</th>\n",
       "      <th>Distancia do aeroporto</th>\n",
       "      <th>CEP</th>\n",
       "      <th>Banheiro</th>\n",
       "      <th>Vagas</th>\n",
       "      <th>Area terreno</th>\n",
       "      <th>Area construida</th>\n",
       "      <th>Ano da construcao</th>\n",
       "      <th>Latitude</th>\n",
       "      <th>Longitude</th>\n",
       "    </tr>\n",
       "  </thead>\n",
       "  <tbody>\n",
       "    <tr>\n",
       "      <th>count</th>\n",
       "      <td>3627.000000</td>\n",
       "      <td>3.627000e+03</td>\n",
       "      <td>3627.000000</td>\n",
       "      <td>3627.000000</td>\n",
       "      <td>3627.000000</td>\n",
       "      <td>3627.000000</td>\n",
       "      <td>3627.000000</td>\n",
       "      <td>3627.000000</td>\n",
       "      <td>3627.000000</td>\n",
       "      <td>3627.000000</td>\n",
       "      <td>3626.000000</td>\n",
       "    </tr>\n",
       "    <tr>\n",
       "      <th>mean</th>\n",
       "      <td>3.092914</td>\n",
       "      <td>1.215652e+06</td>\n",
       "      <td>8.972594</td>\n",
       "      <td>3091.642404</td>\n",
       "      <td>1.631100</td>\n",
       "      <td>1.609319</td>\n",
       "      <td>520.160463</td>\n",
       "      <td>153.382534</td>\n",
       "      <td>1956.990074</td>\n",
       "      <td>-3254.972992</td>\n",
       "      <td>13407.429455</td>\n",
       "    </tr>\n",
       "    <tr>\n",
       "      <th>std</th>\n",
       "      <td>0.901321</td>\n",
       "      <td>7.017057e+05</td>\n",
       "      <td>3.466525</td>\n",
       "      <td>58.874382</td>\n",
       "      <td>0.743868</td>\n",
       "      <td>0.955635</td>\n",
       "      <td>653.564225</td>\n",
       "      <td>95.890805</td>\n",
       "      <td>38.744626</td>\n",
       "      <td>10543.701635</td>\n",
       "      <td>41780.754937</td>\n",
       "    </tr>\n",
       "    <tr>\n",
       "      <th>min</th>\n",
       "      <td>1.000000</td>\n",
       "      <td>1.310000e+05</td>\n",
       "      <td>1.200000</td>\n",
       "      <td>3000.000000</td>\n",
       "      <td>1.000000</td>\n",
       "      <td>0.000000</td>\n",
       "      <td>43.000000</td>\n",
       "      <td>1.000000</td>\n",
       "      <td>1830.000000</td>\n",
       "      <td>-37946.000000</td>\n",
       "      <td>144.791800</td>\n",
       "    </tr>\n",
       "    <tr>\n",
       "      <th>25%</th>\n",
       "      <td>3.000000</td>\n",
       "      <td>7.411250e+05</td>\n",
       "      <td>6.400000</td>\n",
       "      <td>3042.000000</td>\n",
       "      <td>1.000000</td>\n",
       "      <td>1.000000</td>\n",
       "      <td>227.000000</td>\n",
       "      <td>102.000000</td>\n",
       "      <td>1925.000000</td>\n",
       "      <td>-37.867000</td>\n",
       "      <td>144.931700</td>\n",
       "    </tr>\n",
       "    <tr>\n",
       "      <th>50%</th>\n",
       "      <td>3.000000</td>\n",
       "      <td>1.025000e+06</td>\n",
       "      <td>9.200000</td>\n",
       "      <td>3073.000000</td>\n",
       "      <td>2.000000</td>\n",
       "      <td>2.000000</td>\n",
       "      <td>449.000000</td>\n",
       "      <td>132.000000</td>\n",
       "      <td>1960.000000</td>\n",
       "      <td>-37.805500</td>\n",
       "      <td>145.002200</td>\n",
       "    </tr>\n",
       "    <tr>\n",
       "      <th>75%</th>\n",
       "      <td>4.000000</td>\n",
       "      <td>1.500000e+06</td>\n",
       "      <td>11.700000</td>\n",
       "      <td>3143.000000</td>\n",
       "      <td>2.000000</td>\n",
       "      <td>2.000000</td>\n",
       "      <td>648.000000</td>\n",
       "      <td>180.000000</td>\n",
       "      <td>1995.000000</td>\n",
       "      <td>-37.762700</td>\n",
       "      <td>145.068800</td>\n",
       "    </tr>\n",
       "    <tr>\n",
       "      <th>max</th>\n",
       "      <td>8.000000</td>\n",
       "      <td>8.000000e+06</td>\n",
       "      <td>15.000000</td>\n",
       "      <td>3207.000000</td>\n",
       "      <td>8.000000</td>\n",
       "      <td>8.000000</td>\n",
       "      <td>15900.000000</td>\n",
       "      <td>3112.000000</td>\n",
       "      <td>2018.000000</td>\n",
       "      <td>-37.686200</td>\n",
       "      <td>145138.000000</td>\n",
       "    </tr>\n",
       "  </tbody>\n",
       "</table>\n",
       "</div>"
      ],
      "text/plain": [
       "           Quartos         Preco  Distancia do aeroporto          CEP  \\\n",
       "count  3627.000000  3.627000e+03             3627.000000  3627.000000   \n",
       "mean      3.092914  1.215652e+06                8.972594  3091.642404   \n",
       "std       0.901321  7.017057e+05                3.466525    58.874382   \n",
       "min       1.000000  1.310000e+05                1.200000  3000.000000   \n",
       "25%       3.000000  7.411250e+05                6.400000  3042.000000   \n",
       "50%       3.000000  1.025000e+06                9.200000  3073.000000   \n",
       "75%       4.000000  1.500000e+06               11.700000  3143.000000   \n",
       "max       8.000000  8.000000e+06               15.000000  3207.000000   \n",
       "\n",
       "          Banheiro        Vagas  Area terreno  Area construida  \\\n",
       "count  3627.000000  3627.000000   3627.000000      3627.000000   \n",
       "mean      1.631100     1.609319    520.160463       153.382534   \n",
       "std       0.743868     0.955635    653.564225        95.890805   \n",
       "min       1.000000     0.000000     43.000000         1.000000   \n",
       "25%       1.000000     1.000000    227.000000       102.000000   \n",
       "50%       2.000000     2.000000    449.000000       132.000000   \n",
       "75%       2.000000     2.000000    648.000000       180.000000   \n",
       "max       8.000000     8.000000  15900.000000      3112.000000   \n",
       "\n",
       "       Ano da construcao      Latitude      Longitude  \n",
       "count        3627.000000   3627.000000    3626.000000  \n",
       "mean         1956.990074  -3254.972992   13407.429455  \n",
       "std            38.744626  10543.701635   41780.754937  \n",
       "min          1830.000000 -37946.000000     144.791800  \n",
       "25%          1925.000000    -37.867000     144.931700  \n",
       "50%          1960.000000    -37.805500     145.002200  \n",
       "75%          1995.000000    -37.762700     145.068800  \n",
       "max          2018.000000    -37.686200  145138.000000  "
      ]
     },
     "execution_count": 8,
     "metadata": {},
     "output_type": "execute_result"
    }
   ],
   "source": [
    "housing.describe()"
   ]
  },
  {
   "cell_type": "markdown",
   "metadata": {},
   "source": [
    "Observa-se uma divergência nos valores da Latitude e Longitude.\n",
    "No valor mínimo da Latitude aparece um valor muito menor do que a média, indicando erro de cadastro. O mesmo acontece com o valor máximo da Longitude."
   ]
  },
  {
   "cell_type": "markdown",
   "metadata": {},
   "source": [
    "O erro de cadastro, claramente, envolveu a ausência do divisor decimal. Para corrigir, faremos a divisão dos valores da Latitude e Longitude que estão com esse problema por 1000."
   ]
  },
  {
   "cell_type": "code",
   "execution_count": 9,
   "metadata": {},
   "outputs": [],
   "source": [
    "housing.loc[housing.Latitude < -1000, 'Latitude'] = housing.Latitude / 1000\n",
    "housing.loc[housing.Longitude > 1000, 'Longitude'] = housing.Longitude / 1000"
   ]
  },
  {
   "cell_type": "markdown",
   "metadata": {},
   "source": [
    "Utilizando o comando \"info()\" observamos que a divergência foi corrigida."
   ]
  },
  {
   "cell_type": "code",
   "execution_count": 10,
   "metadata": {},
   "outputs": [
    {
     "data": {
      "text/html": [
       "<div>\n",
       "<style scoped>\n",
       "    .dataframe tbody tr th:only-of-type {\n",
       "        vertical-align: middle;\n",
       "    }\n",
       "\n",
       "    .dataframe tbody tr th {\n",
       "        vertical-align: top;\n",
       "    }\n",
       "\n",
       "    .dataframe thead th {\n",
       "        text-align: right;\n",
       "    }\n",
       "</style>\n",
       "<table border=\"1\" class=\"dataframe\">\n",
       "  <thead>\n",
       "    <tr style=\"text-align: right;\">\n",
       "      <th></th>\n",
       "      <th>Quartos</th>\n",
       "      <th>Preco</th>\n",
       "      <th>Distancia do aeroporto</th>\n",
       "      <th>CEP</th>\n",
       "      <th>Banheiro</th>\n",
       "      <th>Vagas</th>\n",
       "      <th>Area terreno</th>\n",
       "      <th>Area construida</th>\n",
       "      <th>Ano da construcao</th>\n",
       "      <th>Latitude</th>\n",
       "      <th>Longitude</th>\n",
       "    </tr>\n",
       "  </thead>\n",
       "  <tbody>\n",
       "    <tr>\n",
       "      <th>count</th>\n",
       "      <td>3627.000000</td>\n",
       "      <td>3.627000e+03</td>\n",
       "      <td>3627.000000</td>\n",
       "      <td>3627.000000</td>\n",
       "      <td>3627.000000</td>\n",
       "      <td>3627.000000</td>\n",
       "      <td>3627.000000</td>\n",
       "      <td>3627.000000</td>\n",
       "      <td>3627.000000</td>\n",
       "      <td>3627.000000</td>\n",
       "      <td>3626.000000</td>\n",
       "    </tr>\n",
       "    <tr>\n",
       "      <th>mean</th>\n",
       "      <td>3.092914</td>\n",
       "      <td>1.215652e+06</td>\n",
       "      <td>8.972594</td>\n",
       "      <td>3091.642404</td>\n",
       "      <td>1.631100</td>\n",
       "      <td>1.609319</td>\n",
       "      <td>520.160463</td>\n",
       "      <td>153.382534</td>\n",
       "      <td>1956.990074</td>\n",
       "      <td>-37.805456</td>\n",
       "      <td>144.986199</td>\n",
       "    </tr>\n",
       "    <tr>\n",
       "      <th>std</th>\n",
       "      <td>0.901321</td>\n",
       "      <td>7.017057e+05</td>\n",
       "      <td>3.466525</td>\n",
       "      <td>58.874382</td>\n",
       "      <td>0.743868</td>\n",
       "      <td>0.955635</td>\n",
       "      <td>653.564225</td>\n",
       "      <td>95.890805</td>\n",
       "      <td>38.744626</td>\n",
       "      <td>0.062661</td>\n",
       "      <td>0.078533</td>\n",
       "    </tr>\n",
       "    <tr>\n",
       "      <th>min</th>\n",
       "      <td>1.000000</td>\n",
       "      <td>1.310000e+05</td>\n",
       "      <td>1.200000</td>\n",
       "      <td>3000.000000</td>\n",
       "      <td>1.000000</td>\n",
       "      <td>0.000000</td>\n",
       "      <td>43.000000</td>\n",
       "      <td>1.000000</td>\n",
       "      <td>1830.000000</td>\n",
       "      <td>-37.946000</td>\n",
       "      <td>144.791800</td>\n",
       "    </tr>\n",
       "    <tr>\n",
       "      <th>25%</th>\n",
       "      <td>3.000000</td>\n",
       "      <td>7.411250e+05</td>\n",
       "      <td>6.400000</td>\n",
       "      <td>3042.000000</td>\n",
       "      <td>1.000000</td>\n",
       "      <td>1.000000</td>\n",
       "      <td>227.000000</td>\n",
       "      <td>102.000000</td>\n",
       "      <td>1925.000000</td>\n",
       "      <td>-37.849050</td>\n",
       "      <td>144.925125</td>\n",
       "    </tr>\n",
       "    <tr>\n",
       "      <th>50%</th>\n",
       "      <td>3.000000</td>\n",
       "      <td>1.025000e+06</td>\n",
       "      <td>9.200000</td>\n",
       "      <td>3073.000000</td>\n",
       "      <td>2.000000</td>\n",
       "      <td>2.000000</td>\n",
       "      <td>449.000000</td>\n",
       "      <td>132.000000</td>\n",
       "      <td>1960.000000</td>\n",
       "      <td>-37.796600</td>\n",
       "      <td>144.995300</td>\n",
       "    </tr>\n",
       "    <tr>\n",
       "      <th>75%</th>\n",
       "      <td>4.000000</td>\n",
       "      <td>1.500000e+06</td>\n",
       "      <td>11.700000</td>\n",
       "      <td>3143.000000</td>\n",
       "      <td>2.000000</td>\n",
       "      <td>2.000000</td>\n",
       "      <td>648.000000</td>\n",
       "      <td>180.000000</td>\n",
       "      <td>1995.000000</td>\n",
       "      <td>-37.758635</td>\n",
       "      <td>145.050300</td>\n",
       "    </tr>\n",
       "    <tr>\n",
       "      <th>max</th>\n",
       "      <td>8.000000</td>\n",
       "      <td>8.000000e+06</td>\n",
       "      <td>15.000000</td>\n",
       "      <td>3207.000000</td>\n",
       "      <td>8.000000</td>\n",
       "      <td>8.000000</td>\n",
       "      <td>15900.000000</td>\n",
       "      <td>3112.000000</td>\n",
       "      <td>2018.000000</td>\n",
       "      <td>-37.686200</td>\n",
       "      <td>145.143600</td>\n",
       "    </tr>\n",
       "  </tbody>\n",
       "</table>\n",
       "</div>"
      ],
      "text/plain": [
       "           Quartos         Preco  Distancia do aeroporto          CEP  \\\n",
       "count  3627.000000  3.627000e+03             3627.000000  3627.000000   \n",
       "mean      3.092914  1.215652e+06                8.972594  3091.642404   \n",
       "std       0.901321  7.017057e+05                3.466525    58.874382   \n",
       "min       1.000000  1.310000e+05                1.200000  3000.000000   \n",
       "25%       3.000000  7.411250e+05                6.400000  3042.000000   \n",
       "50%       3.000000  1.025000e+06                9.200000  3073.000000   \n",
       "75%       4.000000  1.500000e+06               11.700000  3143.000000   \n",
       "max       8.000000  8.000000e+06               15.000000  3207.000000   \n",
       "\n",
       "          Banheiro        Vagas  Area terreno  Area construida  \\\n",
       "count  3627.000000  3627.000000   3627.000000      3627.000000   \n",
       "mean      1.631100     1.609319    520.160463       153.382534   \n",
       "std       0.743868     0.955635    653.564225        95.890805   \n",
       "min       1.000000     0.000000     43.000000         1.000000   \n",
       "25%       1.000000     1.000000    227.000000       102.000000   \n",
       "50%       2.000000     2.000000    449.000000       132.000000   \n",
       "75%       2.000000     2.000000    648.000000       180.000000   \n",
       "max       8.000000     8.000000  15900.000000      3112.000000   \n",
       "\n",
       "       Ano da construcao     Latitude    Longitude  \n",
       "count        3627.000000  3627.000000  3626.000000  \n",
       "mean         1956.990074   -37.805456   144.986199  \n",
       "std            38.744626     0.062661     0.078533  \n",
       "min          1830.000000   -37.946000   144.791800  \n",
       "25%          1925.000000   -37.849050   144.925125  \n",
       "50%          1960.000000   -37.796600   144.995300  \n",
       "75%          1995.000000   -37.758635   145.050300  \n",
       "max          2018.000000   -37.686200   145.143600  "
      ]
     },
     "execution_count": 10,
     "metadata": {},
     "output_type": "execute_result"
    }
   ],
   "source": [
    "housing.describe()"
   ]
  }
 ],
 "metadata": {
  "kernelspec": {
   "display_name": "Python 3",
   "language": "python",
   "name": "python3"
  },
  "language_info": {
   "codemirror_mode": {
    "name": "ipython",
    "version": 3
   },
   "file_extension": ".py",
   "mimetype": "text/x-python",
   "name": "python",
   "nbconvert_exporter": "python",
   "pygments_lexer": "ipython3",
   "version": "3.7.1"
  }
 },
 "nbformat": 4,
 "nbformat_minor": 2
}
