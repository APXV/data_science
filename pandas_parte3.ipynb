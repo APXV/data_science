{
 "cells": [
  {
   "cell_type": "markdown",
   "metadata": {},
   "source": [
    "# Introdução a análise de dados com Pandas - Parte 2\n",
    "Na segunda parte do curso faremos a utilização de histogramas.\n",
    "\n",
    "Histogramas são utilizados para analisar a distribuição de frequência de dados. \n",
    "\n",
    "Para tanto, trabalharemos com uma nova base nomeada \"housing_ok.csv\""
   ]
  },
  {
   "cell_type": "markdown",
   "metadata": {},
   "source": [
    "Faremos inicialmente o processo de pré análise dos dados, iniciando pela importação dos mesmos."
   ]
  },
  {
   "cell_type": "code",
   "execution_count": 1,
   "metadata": {},
   "outputs": [],
   "source": [
    "import pandas as pd\n",
    "housing = pd.read_csv('housing_ok.csv')"
   ]
  },
  {
   "cell_type": "markdown",
   "metadata": {},
   "source": [
    "Utilizando o comando \"head()\", podemos visualisar as 5 primeiras linas da tabela."
   ]
  },
  {
   "cell_type": "code",
   "execution_count": 2,
   "metadata": {},
   "outputs": [
    {
     "data": {
      "text/html": [
       "<div>\n",
       "<style scoped>\n",
       "    .dataframe tbody tr th:only-of-type {\n",
       "        vertical-align: middle;\n",
       "    }\n",
       "\n",
       "    .dataframe tbody tr th {\n",
       "        vertical-align: top;\n",
       "    }\n",
       "\n",
       "    .dataframe thead th {\n",
       "        text-align: right;\n",
       "    }\n",
       "</style>\n",
       "<table border=\"1\" class=\"dataframe\">\n",
       "  <thead>\n",
       "    <tr style=\"text-align: right;\">\n",
       "      <th></th>\n",
       "      <th>bairro</th>\n",
       "      <th>endereco</th>\n",
       "      <th>quartos</th>\n",
       "      <th>tipo</th>\n",
       "      <th>preco</th>\n",
       "      <th>distancia_aeroporto</th>\n",
       "      <th>cep</th>\n",
       "      <th>banheiros</th>\n",
       "      <th>vagas</th>\n",
       "      <th>area_terreno</th>\n",
       "      <th>area_construida</th>\n",
       "      <th>ano_construcao</th>\n",
       "      <th>latitude</th>\n",
       "      <th>longitude</th>\n",
       "    </tr>\n",
       "  </thead>\n",
       "  <tbody>\n",
       "    <tr>\n",
       "      <th>0</th>\n",
       "      <td>Collingwood</td>\n",
       "      <td>2/79 Oxford St</td>\n",
       "      <td>2.0</td>\n",
       "      <td>kitnet</td>\n",
       "      <td>855000.0</td>\n",
       "      <td>1.6</td>\n",
       "      <td>3066.0</td>\n",
       "      <td>1.0</td>\n",
       "      <td>1.0</td>\n",
       "      <td>2886.0</td>\n",
       "      <td>122.0</td>\n",
       "      <td>1830.0</td>\n",
       "      <td>-37.8042</td>\n",
       "      <td>144.9845</td>\n",
       "    </tr>\n",
       "    <tr>\n",
       "      <th>1</th>\n",
       "      <td>Richmond</td>\n",
       "      <td>22a Stanley St</td>\n",
       "      <td>3.0</td>\n",
       "      <td>casa</td>\n",
       "      <td>1600000.0</td>\n",
       "      <td>2.6</td>\n",
       "      <td>3121.0</td>\n",
       "      <td>2.0</td>\n",
       "      <td>2.0</td>\n",
       "      <td>80.0</td>\n",
       "      <td>144.0</td>\n",
       "      <td>1850.0</td>\n",
       "      <td>-37.8233</td>\n",
       "      <td>144.9947</td>\n",
       "    </tr>\n",
       "    <tr>\n",
       "      <th>2</th>\n",
       "      <td>Fitzroy</td>\n",
       "      <td>52 Nicholson St</td>\n",
       "      <td>4.0</td>\n",
       "      <td>casa</td>\n",
       "      <td>3310000.0</td>\n",
       "      <td>1.6</td>\n",
       "      <td>3065.0</td>\n",
       "      <td>4.0</td>\n",
       "      <td>2.0</td>\n",
       "      <td>337.0</td>\n",
       "      <td>291.0</td>\n",
       "      <td>1854.0</td>\n",
       "      <td>-37.8052</td>\n",
       "      <td>144.9739</td>\n",
       "    </tr>\n",
       "    <tr>\n",
       "      <th>3</th>\n",
       "      <td>South Melbourne</td>\n",
       "      <td>352 Moray St</td>\n",
       "      <td>4.0</td>\n",
       "      <td>casa</td>\n",
       "      <td>2260000.0</td>\n",
       "      <td>2.1</td>\n",
       "      <td>3205.0</td>\n",
       "      <td>3.0</td>\n",
       "      <td>0.0</td>\n",
       "      <td>190.0</td>\n",
       "      <td>232.0</td>\n",
       "      <td>1856.0</td>\n",
       "      <td>-37.8377</td>\n",
       "      <td>144.9653</td>\n",
       "    </tr>\n",
       "    <tr>\n",
       "      <th>4</th>\n",
       "      <td>Port Melbourne</td>\n",
       "      <td>175 Stokes St</td>\n",
       "      <td>3.0</td>\n",
       "      <td>casa</td>\n",
       "      <td>2200000.0</td>\n",
       "      <td>3.8</td>\n",
       "      <td>3207.0</td>\n",
       "      <td>2.0</td>\n",
       "      <td>0.0</td>\n",
       "      <td>250.0</td>\n",
       "      <td>280.0</td>\n",
       "      <td>1863.0</td>\n",
       "      <td>-37.8381</td>\n",
       "      <td>144.9391</td>\n",
       "    </tr>\n",
       "  </tbody>\n",
       "</table>\n",
       "</div>"
      ],
      "text/plain": [
       "            bairro         endereco  quartos    tipo      preco  \\\n",
       "0      Collingwood   2/79 Oxford St      2.0  kitnet   855000.0   \n",
       "1         Richmond   22a Stanley St      3.0    casa  1600000.0   \n",
       "2          Fitzroy  52 Nicholson St      4.0    casa  3310000.0   \n",
       "3  South Melbourne     352 Moray St      4.0    casa  2260000.0   \n",
       "4   Port Melbourne    175 Stokes St      3.0    casa  2200000.0   \n",
       "\n",
       "   distancia_aeroporto     cep  banheiros  vagas  area_terreno  \\\n",
       "0                  1.6  3066.0        1.0    1.0        2886.0   \n",
       "1                  2.6  3121.0        2.0    2.0          80.0   \n",
       "2                  1.6  3065.0        4.0    2.0         337.0   \n",
       "3                  2.1  3205.0        3.0    0.0         190.0   \n",
       "4                  3.8  3207.0        2.0    0.0         250.0   \n",
       "\n",
       "   area_construida  ano_construcao  latitude  longitude  \n",
       "0            122.0          1830.0  -37.8042   144.9845  \n",
       "1            144.0          1850.0  -37.8233   144.9947  \n",
       "2            291.0          1854.0  -37.8052   144.9739  \n",
       "3            232.0          1856.0  -37.8377   144.9653  \n",
       "4            280.0          1863.0  -37.8381   144.9391  "
      ]
     },
     "execution_count": 2,
     "metadata": {},
     "output_type": "execute_result"
    }
   ],
   "source": [
    "housing.head()"
   ]
  },
  {
   "cell_type": "markdown",
   "metadata": {},
   "source": [
    "A tabela trata de dados imobiliários da cidade de Melbourne, Austrália.\n"
   ]
  },
  {
   "cell_type": "markdown",
   "metadata": {},
   "source": [
    "Obtendo informações gerais da tabela."
   ]
  },
  {
   "cell_type": "code",
   "execution_count": 3,
   "metadata": {},
   "outputs": [
    {
     "name": "stdout",
     "output_type": "stream",
     "text": [
      "<class 'pandas.core.frame.DataFrame'>\n",
      "RangeIndex: 3021 entries, 0 to 3020\n",
      "Data columns (total 14 columns):\n",
      "bairro                 3021 non-null object\n",
      "endereco               3021 non-null object\n",
      "quartos                3021 non-null float64\n",
      "tipo                   3021 non-null object\n",
      "preco                  3021 non-null float64\n",
      "distancia_aeroporto    3021 non-null float64\n",
      "cep                    3021 non-null float64\n",
      "banheiros              3021 non-null float64\n",
      "vagas                  3021 non-null float64\n",
      "area_terreno           3021 non-null float64\n",
      "area_construida        3021 non-null float64\n",
      "ano_construcao         3021 non-null float64\n",
      "latitude               3021 non-null float64\n",
      "longitude              3021 non-null float64\n",
      "dtypes: float64(11), object(3)\n",
      "memory usage: 330.5+ KB\n"
     ]
    }
   ],
   "source": [
    "housing.info()"
   ]
  },
  {
   "cell_type": "markdown",
   "metadata": {},
   "source": [
    "Observe que tanto a coluna 'quartos' quanto a coluna 'vagas' foram interpretadas como tipo 'float64'.\n",
    "\n",
    "Primeiramente faremos a conversão desses dois atributos para o formato inteiro."
   ]
  },
  {
   "cell_type": "code",
   "execution_count": 4,
   "metadata": {},
   "outputs": [],
   "source": [
    "housing.quartos = housing.quartos.astype(int)\n",
    "housing.vagas = housing.vagas.astype(int)"
   ]
  },
  {
   "cell_type": "code",
   "execution_count": 5,
   "metadata": {},
   "outputs": [
    {
     "name": "stdout",
     "output_type": "stream",
     "text": [
      "<class 'pandas.core.frame.DataFrame'>\n",
      "RangeIndex: 3021 entries, 0 to 3020\n",
      "Data columns (total 14 columns):\n",
      "bairro                 3021 non-null object\n",
      "endereco               3021 non-null object\n",
      "quartos                3021 non-null int64\n",
      "tipo                   3021 non-null object\n",
      "preco                  3021 non-null float64\n",
      "distancia_aeroporto    3021 non-null float64\n",
      "cep                    3021 non-null float64\n",
      "banheiros              3021 non-null float64\n",
      "vagas                  3021 non-null int64\n",
      "area_terreno           3021 non-null float64\n",
      "area_construida        3021 non-null float64\n",
      "ano_construcao         3021 non-null float64\n",
      "latitude               3021 non-null float64\n",
      "longitude              3021 non-null float64\n",
      "dtypes: float64(9), int64(2), object(3)\n",
      "memory usage: 330.5+ KB\n"
     ]
    }
   ],
   "source": [
    "housing.info()"
   ]
  },
  {
   "cell_type": "markdown",
   "metadata": {},
   "source": [
    "Para gerar histogramas é necessário importar o pacote de gráficos \"matplotli.pyplot\""
   ]
  },
  {
   "cell_type": "code",
   "execution_count": 6,
   "metadata": {},
   "outputs": [],
   "source": [
    "import matplotlib.pyplot as plt"
   ]
  },
  {
   "cell_type": "markdown",
   "metadata": {},
   "source": [
    "Faremos inicialmente a plotagem do histograma do preço dos imóveis."
   ]
  },
  {
   "cell_type": "code",
   "execution_count": 7,
   "metadata": {},
   "outputs": [
    {
     "data": {
      "text/plain": [
       "Text(0, 0.5, 'Frequência')"
      ]
     },
     "execution_count": 7,
     "metadata": {},
     "output_type": "execute_result"
    },
    {
     "data": {
      "image/png": "[encoded data removed]",
      "text/plain": [
       "<Figure size 432x288 with 1 Axes>"
      ]
     },
     "metadata": {
      "needs_background": "light"
     },
     "output_type": "display_data"
    }
   ],
   "source": [
    "plt.hist(housing.preco)\n",
    "plt.title('Histograma')\n",
    "plt.xlabel('Preço dos imóveis')\n",
    "plt.ylabel('Frequência')"
   ]
  },
  {
   "cell_type": "markdown",
   "metadata": {},
   "source": [
    "Observe que os valores dos preços mostrados no eixo $x$ são de difícil visualização.\n",
    "\n",
    "Uma forma de resolver isso é dividindo todos os preços por 1000."
   ]
  },
  {
   "cell_type": "code",
   "execution_count": 8,
   "metadata": {},
   "outputs": [],
   "source": [
    "housing.preco = housing.preco / 1000"
   ]
  },
  {
   "cell_type": "code",
   "execution_count": 9,
   "metadata": {},
   "outputs": [
    {
     "data": {
      "text/plain": [
       "Text(0, 0.5, 'Frequência')"
      ]
     },
     "execution_count": 9,
     "metadata": {},
     "output_type": "execute_result"
    },
    {
     "data": {
      "image/png": "[encoded data removed]",
      "text/plain": [
       "<Figure size 432x288 with 1 Axes>"
      ]
     },
     "metadata": {
      "needs_background": "light"
     },
     "output_type": "display_data"
    }
   ],
   "source": [
    "plt.hist(housing.preco)\n",
    "plt.title('Histograma')\n",
    "plt.xlabel('Preço dos imóveis em ($ 1.000,00)')\n",
    "plt.ylabel('Frequência')"
   ]
  },
  {
   "cell_type": "markdown",
   "metadata": {},
   "source": [
    "Faremos agora a plotagem do histograma do número de quartos."
   ]
  },
  {
   "cell_type": "code",
   "execution_count": 10,
   "metadata": {},
   "outputs": [
    {
     "data": {
      "text/plain": [
       "Text(0, 0.5, 'Frequência')"
      ]
     },
     "execution_count": 10,
     "metadata": {},
     "output_type": "execute_result"
    },
    {
     "data": {
      "image/png": "[encoded data removed]",
      "text/plain": [
       "<Figure size 432x288 with 1 Axes>"
      ]
     },
     "metadata": {
      "needs_background": "light"
     },
     "output_type": "display_data"
    }
   ],
   "source": [
    "plt.hist(housing.quartos)\n",
    "plt.title('Histograma dos quartos')\n",
    "plt.xlabel('Número de quartos')\n",
    "plt.ylabel('Frequência')"
   ]
  },
  {
   "cell_type": "markdown",
   "metadata": {},
   "source": [
    "Por conta dos intervalos gerados automaticamente pelo gráfico, a interpretação do do mesmo ficou comprometida. \n",
    "\n",
    "Para facilitar a análise faremos a configuração dos intervalos do histograma através do parâmetro \"bins\".\n",
    "\n",
    "O parâmetro \"bins\" determina a quatidade de barras que farão parte do gráfico. Nós sabemos que o menor número de quartos que aparece nos dados é igual a 1, e o número máximo de quartos é igual a 8."
   ]
  },
  {
   "cell_type": "code",
   "execution_count": 11,
   "metadata": {},
   "outputs": [
    {
     "data": {
      "text/plain": [
       "Text(0, 0.5, 'Frequência')"
      ]
     },
     "execution_count": 11,
     "metadata": {},
     "output_type": "execute_result"
    },
    {
     "data": {
      "image/png": "[encoded data removed]",
      "text/plain": [
       "<Figure size 432x288 with 1 Axes>"
      ]
     },
     "metadata": {
      "needs_background": "light"
     },
     "output_type": "display_data"
    }
   ],
   "source": [
    "plt.hist(housing.quartos, bins=range(1, 9))\n",
    "plt.title('Histograma dos quartos')\n",
    "plt.xlabel('Número de quartos')\n",
    "plt.ylabel('Frequência')"
   ]
  },
  {
   "cell_type": "markdown",
   "metadata": {},
   "source": [
    "Com a nova visualização é possível observar que a maiora dos imóveis dessa base possui um total de 3 quartos."
   ]
  }
 ],
 "metadata": {
  "kernelspec": {
   "display_name": "Python 3",
   "language": "python",
   "name": "python3"
  },
  "language_info": {
   "codemirror_mode": {
    "name": "ipython",
    "version": 3
   },
   "file_extension": ".py",
   "mimetype": "text/x-python",
   "name": "python",
   "nbconvert_exporter": "python",
   "pygments_lexer": "ipython3",
   "version": "3.7.1"
  }
 },
 "nbformat": 4,
 "nbformat_minor": 2
}
