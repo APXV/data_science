{
 "cells": [
  {
   "cell_type": "markdown",
   "metadata": {},
   "source": [
    "# Exercícios de regressão 1\n",
    "## Utilizando o arquivo ```exemplo_regressao.csv```, \n",
    "1. Crie o modelo de regressão considerando $x$ como variável independete e $y_2$ como variável dependente e faça uma previsão para $y$ caso $x=100$\n",
    "2. Plote o gráfico da reta criada no modelo anterior juntamente com os pares $(x, y)$.\n",
    "3. Crie o modelo para $y_1$ independente e $y_2$ dependente. Plote o resultado em um gráfico."
   ]
  },
  {
   "cell_type": "code",
   "execution_count": 67,
   "metadata": {},
   "outputs": [],
   "source": [
    "import matplotlib.pyplot as plt\n",
    "import pandas as pd\n",
    "from sklearn.linear_model import LinearRegression\n",
    "\n",
    "df = pd.read_csv('exemplo_regressao.csv')"
   ]
  }
 ],
 "metadata": {
  "kernelspec": {
   "display_name": "Python 3",
   "language": "python",
   "name": "python3"
  },
  "language_info": {
   "codemirror_mode": {
    "name": "ipython",
    "version": 3
   },
   "file_extension": ".py",
   "mimetype": "text/x-python",
   "name": "python",
   "nbconvert_exporter": "python",
   "pygments_lexer": "ipython3",
   "version": "3.7.1"
  }
 },
 "nbformat": 4,
 "nbformat_minor": 2
}
